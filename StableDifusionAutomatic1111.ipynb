{
  "nbformat": 4,
  "nbformat_minor": 0,
  "metadata": {
    "colab": {
      "provenance": [],
      "authorship_tag": "ABX9TyNhrlAweBv4LvRsMDCVsVF5",
      "include_colab_link": true
    },
    "kernelspec": {
      "name": "python3",
      "display_name": "Python 3"
    },
    "language_info": {
      "name": "python"
    },
    "accelerator": "GPU",
    "gpuClass": "standard"
  },
  "cells": [
    {
      "cell_type": "markdown",
      "metadata": {
        "id": "view-in-github",
        "colab_type": "text"
      },
      "source": [
        "<a href=\"https://colab.research.google.com/github/beothorn/OneClickStableDifusionAutomatic1111Colab/blob/main/StableDifusionAutomatic1111.ipynb\" target=\"_parent\"><img src=\"https://colab.research.google.com/assets/colab-badge.svg\" alt=\"Open In Colab\"/></a>"
      ]
    },
    {
      "cell_type": "markdown",
      "source": [
        "# Simplified Automatic1111 start\n",
        "\n",
        "Authenticate with user as the user and the password that will print in the console.\n",
        "\n",
        "This will save Automatic1111, including the model, on your gdrive for faster startup.\n",
        "\n",
        "To get the model create an account on hugginface and a new token at https://huggingface.co/settings/tokens\n",
        "\n",
        "If you want to run a different client, such as [gimp stable boy](https://github.com/tgiesselmann/gimp-stable-boy) run in api mode"
      ],
      "metadata": {
        "id": "3Ge0b02eRZVL"
      }
    },
    {
      "cell_type": "code",
      "execution_count": 5,
      "metadata": {
        "id": "NPtEBB6r18yU",
        "outputId": "a5c91ac9-1bdf-4207-8a10-8ea1da5168b0",
        "colab": {
          "base_uri": "https://localhost:8080/"
        }
      },
      "outputs": [
        {
          "output_type": "stream",
          "name": "stdout",
          "text": [
            "Sun Jan 29 22:35:29 2023       \n",
            "+-----------------------------------------------------------------------------+\n",
            "| NVIDIA-SMI 510.47.03    Driver Version: 510.47.03    CUDA Version: 11.6     |\n",
            "|-------------------------------+----------------------+----------------------+\n",
            "| GPU  Name        Persistence-M| Bus-Id        Disp.A | Volatile Uncorr. ECC |\n",
            "| Fan  Temp  Perf  Pwr:Usage/Cap|         Memory-Usage | GPU-Util  Compute M. |\n",
            "|                               |                      |               MIG M. |\n",
            "|===============================+======================+======================|\n",
            "|   0  Tesla T4            Off  | 00000000:00:04.0 Off |                    0 |\n",
            "| N/A   64C    P0    31W /  70W |      0MiB / 15360MiB |      0%      Default |\n",
            "|                               |                      |                  N/A |\n",
            "+-------------------------------+----------------------+----------------------+\n",
            "                                                                               \n",
            "+-----------------------------------------------------------------------------+\n",
            "| Processes:                                                                  |\n",
            "|  GPU   GI   CI        PID   Type   Process name                  GPU Memory |\n",
            "|        ID   ID                                                   Usage      |\n",
            "|=============================================================================|\n",
            "|  No running processes found                                                 |\n",
            "+-----------------------------------------------------------------------------+\n",
            "Drive already mounted at /content/drive/; to attempt to forcibly remount, call drive.mount(\"/content/drive/\", force_remount=True).\n",
            "GDrive folder already asd1111 exists, will use it\n",
            "/content/drive/MyDrive/asd1111/stable-diffusion-webui\n",
            "Will update\n",
            "/content/drive/MyDrive/asd1111/stable-diffusion-webui\n",
            "Already up to date.\n",
            "Python 3.8.10 (default, Nov 14 2022, 12:59:47) \n",
            "[GCC 9.4.0]\n",
            "Commit hash: 399720dac2543fb4cdbe1022ec1a01f2411b81e2\n",
            "Cloning K-diffusion into repositories/k-diffusion...\n",
            "Installing requirements for Web UI\n",
            "\n",
            "#######################################################################################################\n",
            "Initializing Dreambooth\n",
            "If submitting an issue on github, please provide the below text for debugging purposes:\n",
            "\n",
            "Python revision: 3.8.10 (default, Nov 14 2022, 12:59:47) \n",
            "[GCC 9.4.0]\n",
            "Dreambooth revision: 9f4d931a319056c537d24669cb950d146d1537b0\n",
            "SD-WebUI revision: 399720dac2543fb4cdbe1022ec1a01f2411b81e2\n",
            "\n",
            "Checking Dreambooth requirements...\n",
            "[+] bitsandbytes version 0.35.0 installed.\n",
            "[+] diffusers version 0.10.2 installed.\n",
            "[+] transformers version 4.25.1 installed.\n",
            "[ ] xformers version N/A installed.\n",
            "[+] torch version 1.13.1+cu116 installed.\n",
            "[+] torchvision version 0.14.1+cu116 installed.\n",
            "\n",
            "#######################################################################################################\n",
            "\n",
            "Exiting because of --exit argument\n",
            "==========================================\n",
            "User is user, your password is: QXnzMrJi3fxgfhhiWYiFUHan5oxKJSMd\n",
            "==========================================\n",
            "Python 3.8.10 (default, Nov 14 2022, 12:59:47) \n",
            "[GCC 9.4.0]\n",
            "Commit hash: 399720dac2543fb4cdbe1022ec1a01f2411b81e2\n",
            "Installing requirements for Web UI\n",
            "\n",
            "#######################################################################################################\n",
            "Initializing Dreambooth\n",
            "If submitting an issue on github, please provide the below text for debugging purposes:\n",
            "\n",
            "Python revision: 3.8.10 (default, Nov 14 2022, 12:59:47) \n",
            "[GCC 9.4.0]\n",
            "Dreambooth revision: 9f4d931a319056c537d24669cb950d146d1537b0\n",
            "SD-WebUI revision: 399720dac2543fb4cdbe1022ec1a01f2411b81e2\n",
            "\n",
            "Checking Dreambooth requirements...\n",
            "[+] bitsandbytes version 0.35.0 installed.\n",
            "[+] diffusers version 0.10.2 installed.\n",
            "[+] transformers version 4.25.1 installed.\n",
            "[ ] xformers version N/A installed.\n",
            "[+] torch version 1.13.1+cu116 installed.\n",
            "[+] torchvision version 0.14.1+cu116 installed.\n",
            "\n",
            "#######################################################################################################\n",
            "\n",
            "Launching Web UI with arguments: --share --gradio-debug --gradio-auth user:QXnzMrJi3fxgfhhiWYiFUHan5oxKJSMd\n",
            "2023-01-29 22:36:59.456623: I tensorflow/core/platform/cpu_feature_guard.cc:193] This TensorFlow binary is optimized with oneAPI Deep Neural Network Library (oneDNN) to use the following CPU instructions in performance-critical operations:  AVX2 FMA\n",
            "To enable them in other operations, rebuild TensorFlow with the appropriate compiler flags.\n",
            "2023-01-29 22:37:00.649506: W tensorflow/compiler/xla/stream_executor/platform/default/dso_loader.cc:64] Could not load dynamic library 'libnvinfer.so.7'; dlerror: libnvinfer.so.7: cannot open shared object file: No such file or directory; LD_LIBRARY_PATH: /usr/local/lib/python3.8/dist-packages/cv2/../../lib64:/usr/lib64-nvidia\n",
            "2023-01-29 22:37:00.649717: W tensorflow/compiler/xla/stream_executor/platform/default/dso_loader.cc:64] Could not load dynamic library 'libnvinfer_plugin.so.7'; dlerror: libnvinfer_plugin.so.7: cannot open shared object file: No such file or directory; LD_LIBRARY_PATH: /usr/local/lib/python3.8/dist-packages/cv2/../../lib64:/usr/lib64-nvidia\n",
            "2023-01-29 22:37:00.649738: W tensorflow/compiler/tf2tensorrt/utils/py_utils.cc:38] TF-TRT Warning: Cannot dlopen some TensorRT libraries. If you would like to use Nvidia GPU with TensorRT, please make sure the missing libraries mentioned above are installed properly.\n",
            "No module 'xformers'. Proceeding without it.\n",
            "SD-Webui API layer loaded\n",
            "Loading weights [cc6cb27103] from /content/drive/MyDrive/asd1111/stable-diffusion-webui/model.ckpt\n",
            "Creating model from config: /content/drive/MyDrive/asd1111/stable-diffusion-webui/configs/v1-inference.yaml\n",
            "LatentDiffusion: Running in eps-prediction mode\n",
            "DiffusionWrapper has 859.52 M params.\n",
            "Applying cross attention optimization (Doggettx).\n",
            "Textual inversion embeddings loaded(0): \n",
            "Model loaded in 31.6s (load weights from disk: 21.5s, create model: 0.9s, apply weights to model: 2.0s, apply half(): 0.6s, load VAE: 6.0s, move model to device: 0.6s).\n",
            "Running on local URL:  http://127.0.0.1:7860\n",
            "Running on public URL: https://7f9b1a55-8b79-46a1.gradio.live\n",
            "\n",
            "This share link expires in 72 hours. For free permanent hosting and GPU upgrades (NEW!), check out Spaces: https://huggingface.co/spaces\n",
            "WARNING:multipart.multipart:Consuming a byte in the end state\n",
            "WARNING:multipart.multipart:Consuming a byte in the end state\n",
            "Loading model from checkpoint.\n",
            "Loading ckpt...\n",
            "Pred and size are epsilon and 512, using config: /content/drive/MyDrive/asd1111/stable-diffusion-webui/extensions/sd_dreambooth_extension/dreambooth/../configs/v1-training-default.yaml\n",
            "v1 model loaded.\n",
            "Trying to load: /content/drive/MyDrive/asd1111/stable-diffusion-webui/extensions/sd_dreambooth_extension/dreambooth/../configs/v1-training-default.yaml\n",
            "Converting unet...\n",
            "Converting vae...\n",
            "Converting text encoder...\n",
            "Downloading (…)\"pytorch_model.bin\";: 100% 1.71G/1.71G [00:15<00:00, 112MB/s]\n",
            "Downloading (…)lve/main/config.json: 100% 4.55k/4.55k [00:00<00:00, 1.91MB/s]\n",
            "Downloading (…)\"pytorch_model.bin\";: 100% 1.22G/1.22G [00:09<00:00, 126MB/s]\n",
            "Downloading (…)rocessor_config.json: 100% 342/342 [00:00<00:00, 156kB/s]\n",
            "Saving diffusion model...\n",
            "Checkpoint successfully extracted to /content/drive/MyDrive/asd1111/stable-diffusion-webui/models/dreambooth/c4r01/working\n",
            "Restored system models.\n",
            "Wizard results:<br>Num Epochs: 150<br>Num instance images per class image: 5\n",
            "Interrupted with signal 2 in <frame at 0xe9622910, file '/content/drive/MyDrive/asd1111/stable-diffusion-webui/webui.py', line 142, code sigint_handler>\n"
          ]
        }
      ],
      "source": [
        "!nvidia-smi\n",
        "from google.colab import drive\n",
        "import os\n",
        "import random\n",
        "import string\n",
        "\n",
        "drive.mount('/content/drive/')\n",
        "api_mode = False #@param {type:\"boolean\"}\n",
        "update = True #@param {type:\"boolean\"}\n",
        "if os.path.isdir('/content/drive/MyDrive/asd1111'):\n",
        "  print('GDrive folder already asd1111 exists, will use it')\n",
        "  %cd '/content/drive/MyDrive/asd1111/stable-diffusion-webui'\n",
        "else:\n",
        "  print('GDrive folder asd1111 not found, creating')\n",
        "  os.mkdir('/content/drive/MyDrive/asd1111')\n",
        "  !cd '/content/drive/MyDrive/asd1111'\n",
        "  !git clone https://github.com/AUTOMATIC1111/stable-diffusion-webui '/content/drive/MyDrive/asd1111/stable-diffusion-webui'\n",
        "  user_token = \"Put your hugging face token here\" #@param {type:\"string\"}\n",
        "  user_header = f\"\\\"Authorization: Bearer {user_token}\\\"\"\n",
        "  !wget --header={user_header} https://huggingface.co/runwayml/stable-diffusion-v1-5/resolve/main/v1-5-pruned-emaonly.ckpt -O /content/drive/MyDrive/asd1111/stable-diffusion-webui/model.ckpt\n",
        "  %cd '/content/drive/MyDrive/asd1111/stable-diffusion-webui'\n",
        "  \n",
        "if update:\n",
        "  print('Will update')\n",
        "  !rm -rf '/content/drive/MyDrive/asd1111/stable-diffusion-webui/webui.sh'\n",
        "  !rm -rf '/content/drive/MyDrive/asd1111/stable-diffusion-webui/repositories/k-diffusion'\n",
        "  %cd '/content/drive/MyDrive/asd1111/stable-diffusion-webui'\n",
        "  !git pull\n",
        "\n",
        "!COMMANDLINE_ARGS=\"--update-check\"\n",
        "!COMMANDLINE_ARGS=\"--exit\" REQS_FILE=\"requirements.txt\" python launch.py\n",
        "my_pass = ''.join(random.choice(string.ascii_letters + string.digits) for i in range(32))\n",
        "os.environ[\"AUTO_USER\"] = my_pass\n",
        "if api_mode:\n",
        "  print('==========================================')\n",
        "  print(f'Running api mode with no authentication')\n",
        "  print('==========================================')\n",
        "  !COMMANDLINE_ARGS=\"--share --api --gradio-debug\" REQS_FILE=\"requirements.txt\" python launch.py\n",
        "else:\n",
        "  print('==========================================')\n",
        "  print(f'User is user, your password is: {my_pass}')\n",
        "  print('==========================================')\n",
        "  !COMMANDLINE_ARGS=\"--share --gradio-debug --gradio-auth user:$AUTO_USER\" REQS_FILE=\"requirements.txt\" python launch.py"
      ]
    },
    {
      "cell_type": "markdown",
      "source": [
        "# Update to 2.1\n",
        "\n",
        "This deletes the old model and updates to 2.1.\n",
        "\n",
        "Execute it only once if you already have auto1111 setup and wants to update.\n",
        "\n",
        "If you never executed this notebook, just ignore this and run the first cell."
      ],
      "metadata": {
        "id": "5W7SbwnXV8hA"
      }
    },
    {
      "cell_type": "code",
      "source": [
        "from google.colab import drive\n",
        "\n",
        "drive.mount('/content/drive/')\n",
        "user_token = \"Put your hugging face token here\" #@param {type:\"string\"}\n",
        "user_header = f\"\\\"Authorization: Bearer {user_token}\\\"\"\n",
        "!rm /content/drive/MyDrive/asd1111/stable-diffusion-webui/model.ckpt\n",
        "!wget --header={user_header} https://huggingface.co/stabilityai/stable-diffusion-2-1/resolve/main/v2-1_768-ema-pruned.ckpt -O /content/drive/MyDrive/asd1111/stable-diffusion-webui/model.ckpt"
      ],
      "metadata": {
        "id": "tFD6DiysUO3s"
      },
      "execution_count": null,
      "outputs": []
    },
    {
      "cell_type": "markdown",
      "source": [
        "# Install model\n",
        "\n",
        "Replace url with model url to save it on gdrive."
      ],
      "metadata": {
        "id": "qq2J-DE3B-4k"
      }
    },
    {
      "cell_type": "code",
      "source": [
        "from google.colab import drive\n",
        "drive.mount('/content/drive/')\n",
        "\n",
        "model_url = \"https://huggingface.co/nitrosocke/mo-di-diffusion/resolve/main/moDi-v1-pruned.ckpt\" #@param {type:\"string\"}\n",
        "model_name = \"modernDisneyPrunedv1\" #@param {type:\"string\"}\n",
        "drive.mount('/content/drive/')\n",
        "\n",
        "!wget {model_url} -O /content/drive/MyDrive/asd1111/stable-diffusion-webui/models/Stable-diffusion/{model_name}.ckpt"
      ],
      "metadata": {
        "id": "QG6yUHEoCMwG"
      },
      "execution_count": null,
      "outputs": []
    },
    {
      "cell_type": "markdown",
      "source": [
        "# Update extension\n",
        "\n",
        "Extensions can't be updated when using --share"
      ],
      "metadata": {
        "id": "db0lfOnHejAs"
      }
    },
    {
      "cell_type": "code",
      "source": [
        "from google.colab import drive\n",
        "drive.mount('/content/drive/')\n",
        "\n",
        "%cd '/content/drive/MyDrive/asd1111/stable-diffusion-webui/extensions/stable-diffusion-webui-images-browser'\n",
        "!git pull"
      ],
      "metadata": {
        "id": "D_5Y8DkCdjYk"
      },
      "execution_count": null,
      "outputs": []
    },
    {
      "cell_type": "markdown",
      "source": [
        "# Install extension\n",
        "\n",
        "This is needed as extensions can't bw installled when running with --share"
      ],
      "metadata": {
        "id": "dyPlOUZ3pPCF"
      }
    },
    {
      "cell_type": "code",
      "source": [
        "from google.colab import drive\n",
        "drive.mount('/content/drive/')\n",
        "\n",
        "%cd '/content/drive/MyDrive/asd1111/stable-diffusion-webui/extensions/'\n",
        "!git clone https://github.com/d8ahazard/sd_dreambooth_extension.git"
      ],
      "metadata": {
        "id": "u-Vqp39_pdhN"
      },
      "execution_count": null,
      "outputs": []
    }
  ]
}