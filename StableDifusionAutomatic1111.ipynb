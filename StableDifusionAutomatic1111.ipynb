{
  "nbformat": 4,
  "nbformat_minor": 0,
  "metadata": {
    "colab": {
      "provenance": [],
      "authorship_tag": "ABX9TyNOsiNwkHIbPBZJ0Fr4Ci7o",
      "include_colab_link": true
    },
    "kernelspec": {
      "name": "python3",
      "display_name": "Python 3"
    },
    "language_info": {
      "name": "python"
    },
    "gpuClass": "standard"
  },
  "cells": [
    {
      "cell_type": "markdown",
      "metadata": {
        "id": "view-in-github",
        "colab_type": "text"
      },
      "source": [
        "<a href=\"https://colab.research.google.com/github/beothorn/OneClickStableDifusionAutomatic1111Colab/blob/main/StableDifusionAutomatic1111.ipynb\" target=\"_parent\"><img src=\"https://colab.research.google.com/assets/colab-badge.svg\" alt=\"Open In Colab\"/></a>"
      ]
    },
    {
      "cell_type": "markdown",
      "source": [
        "# Simplified Automatic1111 start\n",
        "\n",
        "This notebook is on [github](https://github.com/beothorn/OneClickStableDifusionAutomatic1111Colab)\n",
        "\n",
        "Authenticate with user as the user and the password that will print in the console.\n",
        "\n",
        "This will save Automatic1111, including the model, on your gdrive for faster startup.\n",
        "\n",
        "To get the model create an account on hugginface and a new token at https://huggingface.co/settings/tokens\n",
        "\n",
        "If you want to run a different client, such as [gimp stable boy](https://github.com/tgiesselmann/gimp-stable-boy) run in api mode"
      ],
      "metadata": {
        "id": "3Ge0b02eRZVL"
      }
    },
    {
      "cell_type": "code",
      "execution_count": null,
      "metadata": {
        "id": "NPtEBB6r18yU"
      },
      "outputs": [],
      "source": [
        "!nvidia-smi\n",
        "from google.colab import drive\n",
        "import os\n",
        "import random\n",
        "import string\n",
        "\n",
        "drive.mount('/content/drive/')\n",
        "api_mode = False #@param {type:\"boolean\"}\n",
        "update = True #@param {type:\"boolean\"}\n",
        "if os.path.isdir('/content/drive/MyDrive/asd1111'):\n",
        "  print('GDrive folder already asd1111 exists, will use it')\n",
        "  %cd '/content/drive/MyDrive/asd1111/stable-diffusion-webui'\n",
        "else:\n",
        "  print('GDrive folder asd1111 not found, creating')\n",
        "  os.mkdir('/content/drive/MyDrive/asd1111')\n",
        "  !cd '/content/drive/MyDrive/asd1111'\n",
        "  !git clone https://github.com/AUTOMATIC1111/stable-diffusion-webui '/content/drive/MyDrive/asd1111/stable-diffusion-webui'\n",
        "  user_token = \"Put your hugging face token here\" #@param {type:\"string\"}\n",
        "  user_header = f\"\\\"Authorization: Bearer {user_token}\\\"\"\n",
        "  !wget --header={user_header} https://huggingface.co/stabilityai/stable-diffusion-2-1/resolve/main/v2-1_768-ema-pruned.ckpt -O /content/drive/MyDrive/asd1111/stable-diffusion-webui/model.ckpt\n",
        "  %cd '/content/drive/MyDrive/asd1111/stable-diffusion-webui'\n",
        "\n",
        "if update:\n",
        "  print('Will update')\n",
        "  %cd '/content/drive/MyDrive/asd1111/stable-diffusion-webui'\n",
        "  !git config core.fileMode false\n",
        "  !git fetch origin\n",
        "  !git reset --hard origin/master\n",
        "  %cd '/content/drive/MyDrive/asd1111/stable-diffusion-webui/repositories/k-diffusion'\n",
        "  !git config core.fileMode false\n",
        "  !git fetch origin\n",
        "  !git reset --hard origin/master\n",
        "  %cd '/content/drive/MyDrive/asd1111/stable-diffusion-webui'\n",
        "\n",
        "!COMMANDLINE_ARGS=\"--update-check\"\n",
        "!COMMANDLINE_ARGS=\"--exit\" REQS_FILE=\"requirements.txt\" python launch.py\n",
        "my_pass = ''.join(random.choice(string.ascii_letters + string.digits) for i in range(32))\n",
        "os.environ[\"AUTO_USER\"] = my_pass\n",
        "if api_mode:\n",
        "  print('==========================================')\n",
        "  print(f'Running api mode with no authentication')\n",
        "  print('==========================================')\n",
        "  !COMMANDLINE_ARGS=\"--share --api --gradio-debug\" REQS_FILE=\"requirements.txt\" python launch.py\n",
        "else:\n",
        "  print('==========================================')\n",
        "  print(f'User is user, your password is: {my_pass}')\n",
        "  print('==========================================')\n",
        "  !COMMANDLINE_ARGS=\"--share --gradio-debug --gradio-auth user:$AUTO_USER\" REQS_FILE=\"requirements.txt\" python launch.py"
      ]
    },
    {
      "cell_type": "markdown",
      "source": [
        "# Update to 2.1\n",
        "\n",
        "This deletes the old model and updates to 2.1.\n",
        "\n",
        "Execute it only once if you already have auto1111 setup and wants to update.\n",
        "\n",
        "If you never executed this notebook, just ignore this and run the first cell."
      ],
      "metadata": {
        "id": "5W7SbwnXV8hA"
      }
    },
    {
      "cell_type": "code",
      "source": [
        "from google.colab import drive\n",
        "\n",
        "drive.mount('/content/drive/')\n",
        "user_token = \"Put your hugging face token here\" #@param {type:\"string\"}\n",
        "user_header = f\"\\\"Authorization: Bearer {user_token}\\\"\"\n",
        "!rm /content/drive/MyDrive/asd1111/stable-diffusion-webui/model.ckpt\n",
        "!wget --header={user_header} https://huggingface.co/stabilityai/stable-diffusion-2-1/resolve/main/v2-1_768-ema-pruned.ckpt -O /content/drive/MyDrive/asd1111/stable-diffusion-webui/model.ckpt"
      ],
      "metadata": {
        "id": "tFD6DiysUO3s"
      },
      "execution_count": null,
      "outputs": []
    },
    {
      "cell_type": "markdown",
      "source": [
        "# Install model\n",
        "\n",
        "Replace url with model url to save it on gdrive."
      ],
      "metadata": {
        "id": "qq2J-DE3B-4k"
      }
    },
    {
      "cell_type": "code",
      "source": [
        "from google.colab import drive\n",
        "drive.mount('/content/drive/')\n",
        "\n",
        "model_url = \"https://huggingface.co/nitrosocke/mo-di-diffusion/resolve/main/moDi-v1-pruned.ckpt\" #@param {type:\"string\"}\n",
        "model_name = \"modernDisneyPrunedv1\" #@param {type:\"string\"}\n",
        "drive.mount('/content/drive/')\n",
        "\n",
        "!wget {model_url} -O /content/drive/MyDrive/asd1111/stable-diffusion-webui/models/Stable-diffusion/{model_name}.ckpt"
      ],
      "metadata": {
        "id": "QG6yUHEoCMwG"
      },
      "execution_count": null,
      "outputs": []
    },
    {
      "cell_type": "markdown",
      "source": [
        "# Download 1.5"
      ],
      "metadata": {
        "id": "3evqhIOvf6gw"
      }
    },
    {
      "cell_type": "code",
      "source": [
        "from google.colab import drive\n",
        "drive.mount('/content/drive/')\n",
        "\n",
        "!wget https://huggingface.co/runwayml/stable-diffusion-v1-5/resolve/main/v1-5-pruned-emaonly.ckpt -O /content/drive/MyDrive/asd1111/stable-diffusion-webui/models/Stable-diffusion/v1-5-pruned-emaonly.ckpt"
      ],
      "metadata": {
        "id": "gS-Xv6QVf23H"
      },
      "execution_count": null,
      "outputs": []
    },
    {
      "cell_type": "markdown",
      "source": [
        "# Update extension\n",
        "\n",
        "Extensions can't be updated when using --share"
      ],
      "metadata": {
        "id": "db0lfOnHejAs"
      }
    },
    {
      "cell_type": "code",
      "source": [
        "from google.colab import drive\n",
        "drive.mount('/content/drive/')\n",
        "\n",
        "%cd '/content/drive/MyDrive/asd1111/stable-diffusion-webui/extensions/sd-webui-controlnet'\n",
        "!git pull"
      ],
      "metadata": {
        "id": "D_5Y8DkCdjYk"
      },
      "execution_count": null,
      "outputs": []
    },
    {
      "cell_type": "markdown",
      "source": [
        "# Install extension\n",
        "\n",
        "This is needed as extensions can't bw installled when running with --share"
      ],
      "metadata": {
        "id": "dyPlOUZ3pPCF"
      }
    },
    {
      "cell_type": "code",
      "source": [
        "from google.colab import drive\n",
        "drive.mount('/content/drive/')\n",
        "\n",
        "%cd '/content/drive/MyDrive/asd1111/stable-diffusion-webui/extensions/'\n",
        "!git clone https://github.com/d8ahazard/sd_dreambooth_extension.git"
      ],
      "metadata": {
        "id": "u-Vqp39_pdhN"
      },
      "execution_count": null,
      "outputs": []
    },
    {
      "cell_type": "markdown",
      "source": [
        "# Install Controlnet 1.5"
      ],
      "metadata": {
        "id": "OMtlrqhuSMiZ"
      }
    },
    {
      "cell_type": "code",
      "source": [
        "from google.colab import drive\n",
        "import os\n",
        "\n",
        "drive.mount('/content/drive/')\n",
        "if not os.path.isdir('/content/drive/MyDrive/asd1111/stable-diffusion-webui/extensions/sd-webui-controlnet'):\n",
        "  !git clone https://github.com/Mikubill/sd-webui-controlnet.git '/content/drive/MyDrive/asd1111/stable-diffusion-webui/extensions/'\n",
        "\n",
        "if not os.path.isfile('/content/drive/MyDrive/asd1111/stable-diffusion-webui/extensions/sd-webui-controlnet/models/control_canny-fp16.safetensors'):\n",
        "  !wget https://huggingface.co/webui/ControlNet-modules-safetensors/resolve/main/control_canny-fp16.safetensors -O /content/drive/MyDrive/asd1111/stable-diffusion-webui/extensions/sd-webui-controlnet/models/control_canny-fp16.safetensors\n",
        "if not os.path.isfile('/content/drive/MyDrive/asd1111/stable-diffusion-webui/extensions/sd-webui-controlnet/models/control_depth-fp16.safetensors'):\n",
        "  !wget https://huggingface.co/webui/ControlNet-modules-safetensors/resolve/main/control_depth-fp16.safetensors -O /content/drive/MyDrive/asd1111/stable-diffusion-webui/extensions/sd-webui-controlnet/models/control_depth-fp16.safetensors\n",
        "if not os.path.isfile('/content/drive/MyDrive/asd1111/stable-diffusion-webui/extensions/sd-webui-controlnet/models/control_hed-fp16.safetensors'):\n",
        "  !wget https://huggingface.co/webui/ControlNet-modules-safetensors/resolve/main/control_hed-fp16.safetensors -O /content/drive/MyDrive/asd1111/stable-diffusion-webui/extensions/sd-webui-controlnet/models/control_hed-fp16.safetensors\n",
        "if not os.path.isfile('/content/drive/MyDrive/asd1111/stable-diffusion-webui/extensions/sd-webui-controlnet/models/control_mlsd-fp16.safetensors'):\n",
        "  !wget https://huggingface.co/webui/ControlNet-modules-safetensors/resolve/main/control_mlsd-fp16.safetensors -O /content/drive/MyDrive/asd1111/stable-diffusion-webui/extensions/sd-webui-controlnet/models/control_mlsd-fp16.safetensors\n",
        "if not os.path.isfile('/content/drive/MyDrive/asd1111/stable-diffusion-webui/extensions/sd-webui-controlnet/models/control_normal-fp16.safetensors'):\n",
        "  !wget https://huggingface.co/webui/ControlNet-modules-safetensors/resolve/main/control_normal-fp16.safetensors -O /content/drive/MyDrive/asd1111/stable-diffusion-webui/extensions/sd-webui-controlnet/models/control_normal-fp16.safetensors\n",
        "if not os.path.isfile('/content/drive/MyDrive/asd1111/stable-diffusion-webui/extensions/sd-webui-controlnet/models/control_openpose-fp16.safetensors'):\n",
        "  !wget https://huggingface.co/webui/ControlNet-modules-safetensors/resolve/main/control_openpose-fp16.safetensors -O /content/drive/MyDrive/asd1111/stable-diffusion-webui/extensions/sd-webui-controlnet/models/control_openpose-fp16.safetensors\n",
        "if not os.path.isfile('/content/drive/MyDrive/asd1111/stable-diffusion-webui/extensions/sd-webui-controlnet/models/control_scribble-fp16.safetensors'):\n",
        "  !wget https://huggingface.co/webui/ControlNet-modules-safetensors/resolve/main/control_scribble-fp16.safetensors -O /content/drive/MyDrive/asd1111/stable-diffusion-webui/extensions/sd-webui-controlnet/models/control_scribble-fp16.safetensors\n",
        "if not os.path.isfile('/content/drive/MyDrive/asd1111/stable-diffusion-webui/extensions/sd-webui-controlnet/modelst/control_seg-fp16.safetensors'):\n",
        "  !wget https://huggingface.co/webui/ControlNet-modules-safetensors/resolve/main/control_seg-fp16.safetensors -O /content/drive/MyDrive/asd1111/stable-diffusion-webui/extensions/sd-webui-controlnet/models/control_seg-fp16.safetensors"
      ],
      "metadata": {
        "id": "WA3cP0s6SjNc"
      },
      "execution_count": null,
      "outputs": []
    },
    {
      "cell_type": "markdown",
      "source": [
        "# Install Controlnet 2.1"
      ],
      "metadata": {
        "id": "ArwZjgeUdiI4"
      }
    },
    {
      "cell_type": "code",
      "source": [
        "from google.colab import drive\n",
        "import os\n",
        "\n",
        "drive.mount('/content/drive/')\n",
        "if not os.path.isdir('/content/drive/MyDrive/asd1111/stable-diffusion-webui/extensions/sd-webui-controlnet'):\n",
        "  !git clone https://github.com/Mikubill/sd-webui-controlnet.git '/content/drive/MyDrive/asd1111/stable-diffusion-webui/extensions/'\n",
        "\n",
        "if not os.path.isfile('/content/drive/MyDrive/asd1111/stable-diffusion-webui/extensions/sd-webui-controlnet/models/control_v11p_sd21_canny.safetensors'):\n",
        "  !wget https://huggingface.co/thibaud/controlnet-sd21/blob/main/control_v11p_sd21_canny.safetensors -O /content/drive/MyDrive/asd1111/stable-diffusion-webui/extensions/sd-webui-controlnet/models/control_v11p_sd21_canny.safetensors\n",
        "if not os.path.isfile('/content/drive/MyDrive/asd1111/stable-diffusion-webui/extensions/sd-webui-controlnet/models/control_v11p_sd21_depth.safetensors'):\n",
        "  !wget https://huggingface.co/thibaud/controlnet-sd21/blob/main/control_v11p_sd21_depth.safetensors -O /content/drive/MyDrive/asd1111/stable-diffusion-webui/extensions/sd-webui-controlnet/models/control_v11p_sd21_depth.safetensors\n",
        "if not os.path.isfile('/content/drive/MyDrive/asd1111/stable-diffusion-webui/extensions/sd-webui-controlnet/models/control_v11p_sd21_hed.safetensors'):\n",
        "  !wget https://huggingface.co/thibaud/controlnet-sd21/blob/main/control_v11p_sd21_hed.safetensors -O /content/drive/MyDrive/asd1111/stable-diffusion-webui/extensions/sd-webui-controlnet/models/control_v11p_sd21_hed.safetensors\n",
        "if not os.path.isfile('/content/drive/MyDrive/asd1111/stable-diffusion-webui/extensions/sd-webui-controlnet/models/control_v11p_sd21_normalbae.safetensors'):\n",
        "  !wget https://huggingface.co/thibaud/controlnet-sd21/blob/main/control_v11p_sd21_normalbae.safetensors -O /content/drive/MyDrive/asd1111/stable-diffusion-webui/extensions/sd-webui-controlnet/models/control_v11p_sd21_normalbae.safetensors\n",
        "if not os.path.isfile('/content/drive/MyDrive/asd1111/stable-diffusion-webui/extensions/sd-webui-controlnet/models/control_v11p_sd21_openpose.safetensors'):\n",
        "  !wget https://huggingface.co/thibaud/controlnet-sd21/blob/main/control_v11p_sd21_openpose.safetensors -O /content/drive/MyDrive/asd1111/stable-diffusion-webui/extensions/sd-webui-controlnet/models/control_v11p_sd21_openpose.safetensors\n",
        "if not os.path.isfile('/content/drive/MyDrive/asd1111/stable-diffusion-webui/extensions/sd-webui-controlnet/models/control_v11p_sd21_scribble.safetensors'):\n",
        "  !wget https://huggingface.co/thibaud/controlnet-sd21/blob/main/control_v11p_sd21_scribble.safetensors -O /content/drive/MyDrive/asd1111/stable-diffusion-webui/extensions/sd-webui-controlnet/models/control_v11p_sd21_scribble.safetensors\n",
        "if not os.path.isfile('/content/drive/MyDrive/asd1111/stable-diffusion-webui/extensions/sd-webui-controlnet/modelst/control_v11p_sd21_zoedepth.safetensors'):\n",
        "  !wget https://huggingface.co/thibaud/controlnet-sd21/blob/main/control_v11p_sd21_zoedepth.safetensors -O /content/drive/MyDrive/asd1111/stable-diffusion-webui/extensions/sd-webui-controlnet/models/control_v11p_sd21_zoedepth.safetensors\n",
        "if not os.path.isfile('/content/drive/MyDrive/asd1111/stable-diffusion-webui/extensions/sd-webui-controlnet/modelst/control_v11p_sd21_lineart.safetensors'):\n",
        "  !wget https://huggingface.co/thibaud/controlnet-sd21/blob/main/control_v11p_sd21_lineart.safetensors -O /content/drive/MyDrive/asd1111/stable-diffusion-webui/extensions/sd-webui-controlnet/models/control_v11p_sd21_lineart.safetensors"
      ],
      "metadata": {
        "id": "W-RluWu-dld9"
      },
      "execution_count": null,
      "outputs": []
    }
  ]
}